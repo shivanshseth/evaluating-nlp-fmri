{
  "nbformat": 4,
  "nbformat_minor": 0,
  "metadata": {
    "colab": {
      "name": "LSTM_Embeddings.ipynb",
      "provenance": [],
      "collapsed_sections": []
    },
    "kernelspec": {
      "name": "python3",
      "display_name": "Python 3"
    },
    "language_info": {
      "name": "python"
    }
  },
  "cells": [
    {
      "cell_type": "code",
      "source": [
        "# #!/bin/bash\n",
        "\n",
        "# # Assume you are in my_project directory\n",
        "\n",
        "# newdir=\"language_model\"\n",
        "# if [ ! -d \"$newdir\" ]; then\n",
        "#     mkdir \"$newdir\"\n",
        "# fi\n",
        "\n",
        "# cd \"$newdir\"\n",
        "\n",
        "# lmdir=\"lm_1b\"\n",
        "# if [ ! -d \"$lmdir\" ]; then\n",
        "#     mkdir \"$lmdir\"\n",
        "# fi\n",
        "\n",
        "# wget https://raw.githubusercontent.com/abaybektursun/nlp_mc/master/network/language_model/lm_1b/data_utils.py -O \"$lmdir/data_utils.py\";\n",
        "\n",
        "# datdir=\"data\"\n",
        "# if [ ! -d \"$datdir\" ]; then\n",
        "#     mkdir \"$datdir\"\n",
        "# fi\n",
        "\n",
        "# # Download the Weights. Takes long time\n",
        "# url_base=\"http://download.tensorflow.org/models/LM_LSTM_CNN/\"\n",
        "# shards=\"all_shards-2016-09-10/\"\n",
        "# model_urls=(ckpt-base ckpt-char-embedding ckpt-lstm ckpt-softmax0 ckpt-softmax1 ckpt-softmax2 ckpt-softmax3 ckpt-softmax4 ckpt-softmax5 ckpt-softmax6 ckpt-softmax7 ckpt-softmax8)\n",
        "# ITER=1; NFILES=${#model_urls[@]}\n",
        "# for a_url in ${model_urls[*]} \n",
        "# do\n",
        "#     echo \"-------------------------------------------------------------------------------------------------------\"\n",
        "#     echo \"\t Downloading file $ITER out of $NFILES\"\n",
        "#     echo \"-------------------------------------------------------------------------------------------------------\"\n",
        "    \n",
        "#     if [ -f \"$datdir/$a_url\" ]; then\n",
        "#         echo \"$a_url is already downloaded, skipping\"\n",
        "#     else\n",
        "#         wget \"$url_base$shards$a_url\" -O \"$datdir/$a_url\" -q --show-progress\n",
        "#     fi\n",
        "\n",
        "#     let ITER=${ITER}+1\n",
        "# done\n",
        "\n",
        "# # Gotta do separate because this ones have different bases\n",
        "# wget $url_base\"test/news.en.heldout-00000-of-00050\" -O \"$datdir/news.en.heldout-00000-of-00050\" -q --show-progress\n",
        "# wget $url_base\"graph-2016-09-10.pbtxt\" -O \"$datdir/graph-2016-09-10.pbtxt\" -q --show-progress\n",
        "# wget $url_base\"vocab-2016-09-10.txt\" -O \"$datdir/vocab-2016-09-10.txt\" -q --show-progress\n",
        "\n",
        "# echo \"data/\" > \".gitignore\"\n",
        "!touch setup.sh\n"
      ],
      "metadata": {
        "id": "si-llRrKhatv"
      },
      "execution_count": 1,
      "outputs": []
    },
    {
      "cell_type": "code",
      "execution_count": 7,
      "metadata": {
        "colab": {
          "base_uri": "https://localhost:8080/"
        },
        "id": "BbWZAG1X-quf",
        "outputId": "cfdd3a71-34c9-4c4a-e60f-da10aea8b4bd"
      },
      "outputs": [
        {
          "output_type": "stream",
          "name": "stdout",
          "text": [
            "--2022-05-01 10:02:30--  https://raw.githubusercontent.com/abaybektursun/nlp_mc/master/network/language_model/lm_1b/data_utils.py\n",
            "Resolving raw.githubusercontent.com (raw.githubusercontent.com)... 185.199.108.133, 185.199.109.133, 185.199.110.133, ...\n",
            "Connecting to raw.githubusercontent.com (raw.githubusercontent.com)|185.199.108.133|:443... connected.\n",
            "HTTP request sent, awaiting response... 200 OK\n",
            "Length: 8407 (8.2K) [text/plain]\n",
            "Saving to: ‘lm_1b/data_utils.py’\n",
            "\n",
            "lm_1b/data_utils.py 100%[===================>]   8.21K  --.-KB/s    in 0s      \n",
            "\n",
            "2022-05-01 10:02:30 (70.1 MB/s) - ‘lm_1b/data_utils.py’ saved [8407/8407]\n",
            "\n",
            "-------------------------------------------------------------------------------------------------------\n",
            "\t Downloading file 1 out of 12\n",
            "-------------------------------------------------------------------------------------------------------\n",
            "ckpt-base is already downloaded, skipping\n",
            "-------------------------------------------------------------------------------------------------------\n",
            "\t Downloading file 2 out of 12\n",
            "-------------------------------------------------------------------------------------------------------\n",
            "ckpt-char-embedding is already downloaded, skipping\n",
            "-------------------------------------------------------------------------------------------------------\n",
            "\t Downloading file 3 out of 12\n",
            "-------------------------------------------------------------------------------------------------------\n",
            "ckpt-lstm is already downloaded, skipping\n",
            "-------------------------------------------------------------------------------------------------------\n",
            "\t Downloading file 4 out of 12\n",
            "-------------------------------------------------------------------------------------------------------\n",
            "ckpt-softmax0 is already downloaded, skipping\n",
            "-------------------------------------------------------------------------------------------------------\n",
            "\t Downloading file 5 out of 12\n",
            "-------------------------------------------------------------------------------------------------------\n",
            "ckpt-softmax1 is already downloaded, skipping\n",
            "-------------------------------------------------------------------------------------------------------\n",
            "\t Downloading file 6 out of 12\n",
            "-------------------------------------------------------------------------------------------------------\n",
            "ckpt-softmax2 is already downloaded, skipping\n",
            "-------------------------------------------------------------------------------------------------------\n",
            "\t Downloading file 7 out of 12\n",
            "-------------------------------------------------------------------------------------------------------\n",
            "ckpt-softmax3 is already downloaded, skipping\n",
            "-------------------------------------------------------------------------------------------------------\n",
            "\t Downloading file 8 out of 12\n",
            "-------------------------------------------------------------------------------------------------------\n",
            "ckpt-softmax4 is already downloaded, skipping\n",
            "-------------------------------------------------------------------------------------------------------\n",
            "\t Downloading file 9 out of 12\n",
            "-------------------------------------------------------------------------------------------------------\n",
            "ckpt-softmax5 is already downloaded, skipping\n",
            "-------------------------------------------------------------------------------------------------------\n",
            "\t Downloading file 10 out of 12\n",
            "-------------------------------------------------------------------------------------------------------\n",
            "ckpt-softmax6 is already downloaded, skipping\n",
            "-------------------------------------------------------------------------------------------------------\n",
            "\t Downloading file 11 out of 12\n",
            "-------------------------------------------------------------------------------------------------------\n",
            "ckpt-softmax7 is already downloaded, skipping\n",
            "-------------------------------------------------------------------------------------------------------\n",
            "\t Downloading file 12 out of 12\n",
            "-------------------------------------------------------------------------------------------------------\n",
            "ckpt-softmax8 is already downloaded, skipping\n",
            "data/news.en.heldou 100%[===================>] 810.05K  --.-KB/s    in 0.003s  \n",
            "data/graph-2016-09- 100%[===================>]   1.16M  --.-KB/s    in 0.007s  \n",
            "data/vocab-2016-09- 100%[===================>]   7.09M  --.-KB/s    in 0.02s   \n"
          ]
        }
      ],
      "source": [
        "!bash setup.sh"
      ]
    },
    {
      "cell_type": "code",
      "source": [
        "!pip3 install tensorflow==1.15.5"
      ],
      "metadata": {
        "colab": {
          "base_uri": "https://localhost:8080/"
        },
        "id": "-w5A3JIikHuE",
        "outputId": "6370a974-ca60-42ec-a7cc-04053230cc43"
      },
      "execution_count": 8,
      "outputs": [
        {
          "output_type": "stream",
          "name": "stdout",
          "text": [
            "Requirement already satisfied: tensorflow==1.15.5 in /usr/local/lib/python3.7/dist-packages (1.15.5)\n",
            "Requirement already satisfied: six>=1.10.0 in /usr/local/lib/python3.7/dist-packages (from tensorflow==1.15.5) (1.15.0)\n",
            "Requirement already satisfied: google-pasta>=0.1.6 in /usr/local/lib/python3.7/dist-packages (from tensorflow==1.15.5) (0.2.0)\n",
            "Requirement already satisfied: absl-py>=0.7.0 in /usr/local/lib/python3.7/dist-packages (from tensorflow==1.15.5) (1.0.0)\n",
            "Requirement already satisfied: opt-einsum>=2.3.2 in /usr/local/lib/python3.7/dist-packages (from tensorflow==1.15.5) (3.3.0)\n",
            "Requirement already satisfied: astor>=0.6.0 in /usr/local/lib/python3.7/dist-packages (from tensorflow==1.15.5) (0.8.1)\n",
            "Requirement already satisfied: termcolor>=1.1.0 in /usr/local/lib/python3.7/dist-packages (from tensorflow==1.15.5) (1.1.0)\n",
            "Requirement already satisfied: keras-applications>=1.0.8 in /usr/local/lib/python3.7/dist-packages (from tensorflow==1.15.5) (1.0.8)\n",
            "Requirement already satisfied: grpcio>=1.8.6 in /usr/local/lib/python3.7/dist-packages (from tensorflow==1.15.5) (1.44.0)\n",
            "Requirement already satisfied: h5py<=2.10.0 in /usr/local/lib/python3.7/dist-packages (from tensorflow==1.15.5) (2.10.0)\n",
            "Requirement already satisfied: wrapt>=1.11.1 in /usr/local/lib/python3.7/dist-packages (from tensorflow==1.15.5) (1.14.0)\n",
            "Requirement already satisfied: tensorflow-estimator==1.15.1 in /usr/local/lib/python3.7/dist-packages (from tensorflow==1.15.5) (1.15.1)\n",
            "Requirement already satisfied: numpy<1.19.0,>=1.16.0 in /usr/local/lib/python3.7/dist-packages (from tensorflow==1.15.5) (1.18.5)\n",
            "Requirement already satisfied: protobuf>=3.6.1 in /usr/local/lib/python3.7/dist-packages (from tensorflow==1.15.5) (3.17.3)\n",
            "Requirement already satisfied: keras-preprocessing>=1.0.5 in /usr/local/lib/python3.7/dist-packages (from tensorflow==1.15.5) (1.1.2)\n",
            "Requirement already satisfied: gast==0.2.2 in /usr/local/lib/python3.7/dist-packages (from tensorflow==1.15.5) (0.2.2)\n",
            "Requirement already satisfied: tensorboard<1.16.0,>=1.15.0 in /usr/local/lib/python3.7/dist-packages (from tensorflow==1.15.5) (1.15.0)\n",
            "Requirement already satisfied: wheel>=0.26 in /usr/local/lib/python3.7/dist-packages (from tensorflow==1.15.5) (0.37.1)\n",
            "Requirement already satisfied: werkzeug>=0.11.15 in /usr/local/lib/python3.7/dist-packages (from tensorboard<1.16.0,>=1.15.0->tensorflow==1.15.5) (1.0.1)\n",
            "Requirement already satisfied: markdown>=2.6.8 in /usr/local/lib/python3.7/dist-packages (from tensorboard<1.16.0,>=1.15.0->tensorflow==1.15.5) (3.3.6)\n",
            "Requirement already satisfied: setuptools>=41.0.0 in /usr/local/lib/python3.7/dist-packages (from tensorboard<1.16.0,>=1.15.0->tensorflow==1.15.5) (57.4.0)\n",
            "Requirement already satisfied: importlib-metadata>=4.4 in /usr/local/lib/python3.7/dist-packages (from markdown>=2.6.8->tensorboard<1.16.0,>=1.15.0->tensorflow==1.15.5) (4.11.3)\n",
            "Requirement already satisfied: zipp>=0.5 in /usr/local/lib/python3.7/dist-packages (from importlib-metadata>=4.4->markdown>=2.6.8->tensorboard<1.16.0,>=1.15.0->tensorflow==1.15.5) (3.8.0)\n",
            "Requirement already satisfied: typing-extensions>=3.6.4 in /usr/local/lib/python3.7/dist-packages (from importlib-metadata>=4.4->markdown>=2.6.8->tensorboard<1.16.0,>=1.15.0->tensorflow==1.15.5) (4.2.0)\n"
          ]
        }
      ]
    },
    {
      "cell_type": "code",
      "source": [
        "import os\n",
        "import sys\n",
        "import numpy as np\n",
        "import tensorflow as tf\n",
        "\n",
        "# From lm_1b\n",
        "import language_model.lm_1b.data_utils as data_utils\n",
        "\n",
        "from six.moves       import xrange\n",
        "from google.protobuf import text_format\n",
        "\n",
        "#-------------------------------------------------------------------------------\n",
        "# Adopted from lm_1b_eval.py\n",
        "def LoadModel(gd_file, ckpt_file):\n",
        "    \"\"\"Load the model from GraphDef and Checkpoint.\n",
        "    Args: gd_file: GraphDef proto text file. ckpt_file: TensorFlow Checkpoint file.\n",
        "    Returns: TensorFlow session and tensors dict.\"\"\"\n",
        "    with tf.Graph().as_default():\n",
        "        #class FastGFile: File I/O wrappers without thread locking.\n",
        "        with tf.gfile.FastGFile(gd_file, 'r') as f:\n",
        "            # Py 2: s = f.read().decode()\n",
        "            s = f.read()\n",
        "            # Serialized version of Graph\n",
        "            gd = tf.GraphDef()\n",
        "            # Merges an ASCII representation of a protocol message into a message.\n",
        "            text_format.Merge(s, gd)\n",
        "\n",
        "        tf.logging.info('Recovering Graph %s', gd_file)\n",
        "\n",
        "        t = {}\n",
        "        [t['states_init'], t['lstm/lstm_0/control_dependency'],\n",
        "         t['lstm/lstm_1/control_dependency'], t['softmax_out'], t['class_ids_out'],\n",
        "         t['class_weights_out'], t['log_perplexity_out'], t['inputs_in'],\n",
        "         t['targets_in'], t['target_weights_in'], t['char_inputs_in'],\n",
        "         t['all_embs'], t['softmax_weights'], t['global_step']\n",
        "        ] = tf.import_graph_def(gd, {}, ['states_init',\n",
        "                                         'lstm/lstm_0/control_dependency:0',\n",
        "                                         'lstm/lstm_1/control_dependency:0',\n",
        "                                         'softmax_out:0',\n",
        "                                         'class_ids_out:0',\n",
        "                                         'class_weights_out:0',\n",
        "                                         'log_perplexity_out:0',\n",
        "                                         'inputs_in:0',\n",
        "                                         'targets_in:0',\n",
        "                                         'target_weights_in:0',\n",
        "                                         'char_inputs_in:0',\n",
        "                                         'all_embs_out:0',\n",
        "                                         'Reshape_3:0',\n",
        "                                         'global_step:0'], name='')\n",
        "\n",
        "\n",
        "        sess = tf.Session(config=tf.ConfigProto(allow_soft_placement=True))\n",
        "        sess.run('save/restore_all', {'save/Const:0': ckpt_file})\n",
        "        sess.run(t['states_init'])\n",
        "\n",
        "    return sess, t\n"
      ],
      "metadata": {
        "id": "i4S1DeFK_U2l"
      },
      "execution_count": 1,
      "outputs": []
    },
    {
      "cell_type": "code",
      "source": [
        "\n",
        "BATCH_SIZE = 1\n",
        "NUM_TIMESTEPS = 1\n",
        "MAX_WORD_LEN = 50\n",
        "\n",
        "# File Paths\n",
        "vocab_file = \"language_model/data/vocab-2016-09-10.txt\"\n",
        "save_dir   = \"language_model/output\"\n",
        "pbtxt      = \"language_model/data/graph-2016-09-10.pbtxt\"\n",
        "ckpt       = \"language_model/data/ckpt-*\"\n",
        "\n",
        "#Vocabulary containing character-level information.\n",
        "vocab = data_utils.CharsVocabulary(vocab_file, MAX_WORD_LEN)\n",
        "\n",
        "targets  = np.zeros([BATCH_SIZE, NUM_TIMESTEPS], np.int32)\n",
        "weights  = np.ones([BATCH_SIZE, NUM_TIMESTEPS], np.float32)\n",
        "inputs   = np.zeros([BATCH_SIZE, NUM_TIMESTEPS], np.int32)\n",
        "char_ids_inputs = np.zeros([BATCH_SIZE, NUM_TIMESTEPS, vocab.max_word_length], np.int32)\n",
        "\n",
        "# Recovers the model from protobuf\n",
        "sess, t = LoadModel(pbtxt, ckpt)"
      ],
      "metadata": {
        "colab": {
          "base_uri": "https://localhost:8080/"
        },
        "id": "K9ayNFDQ_kcO",
        "outputId": "754b1d16-eee0-480a-b7da-81bdc8c58adf"
      },
      "execution_count": 2,
      "outputs": [
        {
          "output_type": "stream",
          "name": "stdout",
          "text": [
            "WARNING:tensorflow:From /content/language_model/lm_1b/data_utils.py:40: The name tf.gfile.Open is deprecated. Please use tf.io.gfile.GFile instead.\n",
            "\n",
            "WARNING:tensorflow:From <ipython-input-1-05aad8200307>:20: FastGFile.__init__ (from tensorflow.python.platform.gfile) is deprecated and will be removed in a future version.\n",
            "Instructions for updating:\n",
            "Use tf.gfile.GFile.\n",
            "INFO:tensorflow:Recovering Graph language_model/data/graph-2016-09-10.pbtxt\n"
          ]
        }
      ]
    },
    {
      "cell_type": "code",
      "source": [
        "def forward(sentence):\n",
        "    # Tokenize characters and words\n",
        "    word_ids = [vocab.word_to_id(w) for w in sentence.split()]\n",
        "    char_ids = [vocab.word_to_char_ids(w) for w in sentence.split()]\n",
        "\n",
        "    if sentence.find('<S>') != 0:\n",
        "        sentence = '<S> ' + sentence\n",
        "\n",
        "    for i in xrange(len(word_ids)):\n",
        "        inputs[0, 0] = word_ids[i]\n",
        "        char_ids_inputs[0, 0, :] = char_ids[i]\n",
        "\n",
        "        # Add 'lstm/lstm_0/control_dependency' if you want to dump previous layer\n",
        "        # LSTM.\n",
        "        lstm_emb = sess.run(t['lstm/lstm_1/control_dependency'],\n",
        "                        feed_dict={t['char_inputs_in']: char_ids_inputs,\n",
        "                                   t['inputs_in']: inputs,\n",
        "                                   t['targets_in']: targets,\n",
        "                                   t['target_weights_in']: weights})\n",
        "    return lstm_emb"
      ],
      "metadata": {
        "id": "nYtiqf8TAwBV"
      },
      "execution_count": 3,
      "outputs": []
    },
    {
      "cell_type": "markdown",
      "source": [
        "### Getting embeddings"
      ],
      "metadata": {
        "id": "Vqgxrck1lgQ2"
      }
    },
    {
      "cell_type": "code",
      "source": [
        "final_embeds = []\n",
        "\n",
        "cosm_data = [\n",
        "        # \"If you're having trouble orgasming in a standard partner-in-between-your-legs position, switch it up and mount his face, being careful not to apply too much pressure\",\n",
        "        \"Here's a unique way to give his frenulum — the tiny bump on the underside of his penis where the shaft meets the tip—some special attention: Place the tip of your finger on it, then take his shaft (along with your finger) into your mouth\",\n",
        "        # \"You hundred percent do not need to be on your knees to give your partner oral sex\",\n",
        "        ]\n",
        "\n",
        "\n",
        "for text in cosm_data:\n",
        "    # final_embeds.append(forward(text).reshape(-1))    \n",
        "    # word_ids = [vocab.word_to_id(w) for w in text.split()]\n",
        "    char_ids = [vocab.word_to_char_ids(w) for w in text.split()]\n"
      ],
      "metadata": {
        "id": "OIKn_HR2kzM-"
      },
      "execution_count": null,
      "outputs": []
    },
    {
      "cell_type": "code",
      "source": [
        "text.split()[7]"
      ],
      "metadata": {
        "colab": {
          "base_uri": "https://localhost:8080/",
          "height": 35
        },
        "id": "i210wSjrRUQu",
        "outputId": "d5e7c444-b107-4317-8771-808414765e27"
      },
      "execution_count": null,
      "outputs": [
        {
          "output_type": "execute_result",
          "data": {
            "text/plain": [
              "'frenulum—the'"
            ],
            "application/vnd.google.colaboratory.intrinsic+json": {
              "type": "string"
            }
          },
          "metadata": {},
          "execution_count": 49
        }
      ]
    },
    {
      "cell_type": "code",
      "source": [
        "vocab.word_to_char_ids(\"—\") ## There are some characters that are problematic"
      ],
      "metadata": {
        "colab": {
          "base_uri": "https://localhost:8080/"
        },
        "id": "BmKg34tNRbgf",
        "outputId": "281d6791-3614-406a-f5cb-341f84870b0d"
      },
      "execution_count": null,
      "outputs": [
        {
          "output_type": "execute_result",
          "data": {
            "text/plain": [
              "array([   2, 8212,    3,    4,    4,    4,    4,    4,    4,    4,    4,\n",
              "          4,    4,    4,    4,    4,    4,    4,    4,    4,    4,    4,\n",
              "          4,    4,    4,    4,    4,    4,    4,    4,    4,    4,    4,\n",
              "          4,    4,    4,    4,    4,    4,    4,    4,    4,    4,    4,\n",
              "          4,    4,    4,    4,    4,    4], dtype=int32)"
            ]
          },
          "metadata": {},
          "execution_count": 7
        }
      ]
    },
    {
      "cell_type": "code",
      "source": [
        "import re\n",
        "s = \"string. With. Punctuation?\"\n",
        "s = re.sub(r'[^\\w\\s]','',s)\n",
        "s"
      ],
      "metadata": {
        "colab": {
          "base_uri": "https://localhost:8080/",
          "height": 35
        },
        "id": "vn3KVHttl8BT",
        "outputId": "0146cf99-8286-4a9f-d0f4-7d8b3fc1e774"
      },
      "execution_count": null,
      "outputs": [
        {
          "output_type": "execute_result",
          "data": {
            "text/plain": [
              "'string With Punctuation'"
            ],
            "application/vnd.google.colaboratory.intrinsic+json": {
              "type": "string"
            }
          },
          "metadata": {},
          "execution_count": 9
        }
      ]
    },
    {
      "cell_type": "code",
      "source": [
        "import numpy as np\n",
        "\n",
        "subj_data = np.load(\"stimuli_words.npy\",allow_pickle=True)"
      ],
      "metadata": {
        "id": "aELS0pDtl973"
      },
      "execution_count": 5,
      "outputs": []
    },
    {
      "cell_type": "code",
      "source": [
        "subj_data"
      ],
      "metadata": {
        "colab": {
          "base_uri": "https://localhost:8080/"
        },
        "id": "9K_CJiD7AcpW",
        "outputId": "3789078f-8aaa-471f-f3d0-ef4b43da042f"
      },
      "execution_count": 6,
      "outputs": [
        {
          "output_type": "execute_result",
          "data": {
            "text/plain": [
              "array(['Harry', 'had', 'never', ..., 'thirteen', 'was.', '+'],\n",
              "      dtype='<U14')"
            ]
          },
          "metadata": {},
          "execution_count": 6
        }
      ]
    },
    {
      "cell_type": "code",
      "source": [
        "import re\n",
        "\n",
        "subj_data_formatted = list()\n",
        "temp = list()\n",
        "for w in subj_data:\n",
        "  if w!='+':\n",
        "    temp.append(w)\n",
        "  else:\n",
        "    temp_word = \" \".join(temp)\n",
        "    s=temp_word\n",
        "    s = re.sub(r'[^\\w\\s]','',temp_word)\n",
        "    temp = list()\n",
        "    if s == '':\n",
        "      continue\n",
        "\n",
        "    subj_data_formatted.append(s)\n",
        "subj_data_formatted"
      ],
      "metadata": {
        "colab": {
          "base_uri": "https://localhost:8080/"
        },
        "id": "YGnpM7SbAuMt",
        "outputId": "39168588-1829-4b6f-fab8-e8306814cd08"
      },
      "execution_count": 14,
      "outputs": [
        {
          "output_type": "execute_result",
          "data": {
            "text/plain": [
              "['Harry had never believed he would meet a boy he hated more than Dudley but that was before he met Draco Malfoy Still firstyear Gryffindors only had Potions with the Slytherins so they didnt have to put up with Malfoy much Or at least they didnt until they spotted a notice pinned up in the Gryffindor common room that made them all groan Flying lessons would be starting on Thursday  and Gryffindor and Slytherin would be learning together',\n",
              " 'Typical said Harry darkly Just what I always wanted To make a fool of myself on a broomstick in front of Malfoy',\n",
              " 'He had been looking forward to learning to fly more than anything else You dont know that youll make a fool of yourself said Ron reasonably Anyway I know Malfoys always going on about how good he is at Quidditch but I bet thats all talk',\n",
              " 'Malfoy certainly did talk about flying a lot He complained loudly about first years never getting on the House Quidditch teams and told long boastful stories that always seemed to end with him narrowly escaping Muggles in helicopters He wasnt the only one though the way Seamus Finnigan told it hed spent most of his childhood zooming around the countryside on his broomstick Even Ron would tell anyone whod listen about the time hed almost hit a hang glider on Charlies old broom Everyone from wizarding families talked about Quidditch constantly Ron had already had a big argument with Dean Thomas who shared their dormitory about soccer Ron couldnt see what was exciting about a game with only one ball where no one was allowed to fly Harry had caught Ron prodding Deans poster of West Ham soccer team trying to make the players move',\n",
              " 'Neville had never been on a broomstick in his life because his grandmother had never let him near one Privately Harry felt shed had good reason because Neville managed to have an extraordinary number of accidents even with both feet on the ground',\n",
              " 'Hermione Granger was almost as nervous about flying as Neville was This was something you couldnt learn by heart out of a book  not that she hadnt tried At breakfast on Thursday she bored them all stupid with flying tips shed gotten out of a library book called Quidditch Through the Ages Neville was hanging on to her every word desperate for anything that might help him hang on to his broomstick later but everybody else was very pleased when Hermiones lecture was interrupted by the arrival of the mail',\n",
              " 'Harry hadnt had a single letter since Hagrids note something that Malfoy had been quick to notice of course Malfoys eagle owl was always bringing him packages of sweets from home which he opened gloatingly at the Slytherin table',\n",
              " 'A barn owl brought Neville a small package from his grandmother He opened it excitedly and showed them a glass ball the size of a large marble which seemed to be full of white smoke',\n",
              " 'Its a Remembrall he explained Gran knows I forget things  this tells you if theres something youve forgotten to do Look you hold it tight like this and if it turns red  oh  His face fell because the Remembrall had suddenly glowed scarlet  youve forgotten something ',\n",
              " 'Neville was trying to remember what hed forgotten when Draco Malfoy who was passing the Gryffindor table snatched the Remembrall out of his hand',\n",
              " 'Harry and Ron jumped to their feet They were half hoping for a reason to fight Malfoy but Professor McGonagall who could spot trouble quicker than any teacher in the school was there in a flash',\n",
              " 'Whats going on',\n",
              " 'Malfoys got my Remembrall Professor',\n",
              " 'Scowling Malfoy quickly dropped the Remembrall back on the table',\n",
              " 'Just looking he said and he sloped away with Crabbe and Goyle behind him',\n",
              " 'At threethirty that afternoon Harry Ron and the other Gryffindors hurried down the front steps onto the grounds for their first flying lesson It was a clear breezy day and the grass rippled under their feet as they marched down the sloping lawns toward a smooth flat lawn on the opposite side of the grounds to the forbidden forest whose trees were swaying darkly in the distance',\n",
              " 'The Slytherins were already there and so were twenty broomsticks lying in neat lines on the ground Harry had heard Fred and George Weasley complain about the school brooms saying that some of them started to vibrate if you flew too high or always flew slightly to the left',\n",
              " 'Their teacher Madam Hooch arrived She had short gray hair and yellow eyes like a hawk',\n",
              " 'Well what are you all waiting for she barked Everyone stand by a broomstick Come on hurry up',\n",
              " 'Harry glanced down at his broom It was old and some of the twigs stuck out at odd angles',\n",
              " 'Stick out your right hand over your broom called Madam Hooch at the front and say Up',\n",
              " 'UP everyone shouted',\n",
              " 'Harrys broom jumped into his hand at once but it was one of the few that did Hermione Grangers had simply rolled over on the ground and Nevilles hadnt moved at all Perhaps brooms like horses could tell when you were afraid thought Harry there was a quaver in Nevilles voice that said only too clearly that he wanted to keep his feet on the ground',\n",
              " 'Madam Hooch then showed them how to mount their brooms without sliding off the end and walked up and down the rows correcting their grips Harry and Ron were delighted when she told Malfoy hed been doing it wrong for years',\n",
              " 'Now when I blow my whistle you kick off from the ground hard said Madam Hooch Keep your brooms steady rise a few feet and then come straight back down by leaning forward slightly On my whistle  three  two ',\n",
              " 'But Neville nervous and jumpy and frightened of being left on the ground pushed off hard before the whistle had touched Madam Hoochs lips',\n",
              " 'Come back boy she shouted but Neville was rising straight up like a cork shot out of a bottle  twelve feet  twenty feet Harry saw his scared white face look down at the ground falling away saw him gasp slip sideways off the broom and ',\n",
              " 'WHAM  a thud and a nasty crack and Neville lay facedown on the grass in a heap His broomstick was still rising higher and higher and started to drift lazily toward the forbidden forest and out of sight',\n",
              " 'Madam Hooch was bending over Neville her face as white as his Broken wrist Harry heard her mutter Come on boy  its all right up you get',\n",
              " 'She turned to the rest of the class None of you is to move while I take this boy to the hospital wing You leave those brooms where they are or youll be out of Hogwarts before you can say Quidditch Come on dear',\n",
              " 'Neville his face tearstreaked clutching his wrist hobbled off with Madam Hooch who had her arm around him',\n",
              " 'No sooner were they out of earshot than Malfoy burst into laughter',\n",
              " 'Did you see his face the great lump',\n",
              " 'The other Slytherins joined in',\n",
              " 'Shut up Malfoy snapped Parvati Patil',\n",
              " 'Ooh sticking up for Longbottom said Pansy Parkinson a hardfaced Slytherin girl Never thought youd like fat little crybabies Parvati',\n",
              " 'Look said Malfoy darting forward and snatching something out of the grass Its that stupid thing Longbottoms gran sent him',\n",
              " 'The Remembrall glittered in the sun as he held it up',\n",
              " 'Give that here Malfoy said Harry quietly Everyone stopped talking to watch',\n",
              " 'Malfoy smiled nastily I think Ill leave it somewhere for Longbottom to find  how about  up a tree',\n",
              " 'Give it here Harry yelled but Malfoy had leapt onto his broomstick and taken off He hadnt been lying he could fly well Hovering level with the topmost branches of an oak he called Come and get it Potter',\n",
              " 'Harry grabbed his broom',\n",
              " 'No shouted Hermione Granger Madam Hooch told us not to move  youll get us all into trouble',\n",
              " 'Harry ignored her Blood was pounding in his ears He mounted the broom and kicked hard against the ground and up up he soared air rushed through his hair and his robes whipped out behind him  and in a rush of fierce joy he realized hed found something he could do without being taught  this was easy this was wonderful He pulled his broomstick up a little to take it even higher and heard screams and gasps of girls back on the ground and an admiring whoop from Ron',\n",
              " 'He turned his broomstick sharply to face Malfoy in midair',\n",
              " 'Malfoy looked stunned Give it here Harry called or Ill knock you off that broom',\n",
              " 'Oh yeah said Malfoy trying to sneer but looking worried',\n",
              " 'Harry knew somehow what to do He leaned forward and grasped the broom tightly in both hands and it shot toward Malfoy like a javelin Malfoy only just got out of the way in time Harry made a sharp aboutface and held the broom steady A few people below were clapping',\n",
              " 'No Crabbe and Goyle up here to save your neck Malfoy Harry called',\n",
              " 'The same thought seemed to have struck Malfoy',\n",
              " 'Catch it if you can then he shouted and he threw the glass ball high into the air and streaked back toward the ground',\n",
              " 'Harry saw as though in slow motion the ball rise up in the air and then start to fall He leaned forward and pointed his broom handle down  next second he was gathering speed in a steep dive racing the ball  wind whistled in his ears mingled with the screams of people watching  he stretched out his hand  a foot from the ground he caught it just in time to pull his broom straight and he toppled gently onto the grass with the Remembrall clutched safely in his fist',\n",
              " 'HARRY POTTER',\n",
              " 'His heart sank faster than hed just dived Professor McGonagall was running toward them He got to his feet trembling',\n",
              " 'Never  in all my time at Hogwarts  Professor McGonagall was almost speechless with shock and her glasses flashed furiously  how dare you  might have broken your neck ',\n",
              " 'It wasnt his fault Professor ',\n",
              " 'Be quiet Miss Patil ',\n",
              " 'But Malfoy  Thats enough Mr Weasley Potter follow me now',\n",
              " 'Harry caught sight of Malfoy Crabbe and Goyles triumphant faces as he left walking numbly in Professor McGonagalls wake as she strode toward the castle He was going to be expelled he just knew it He wanted to say something to defend himself but there seemed to be something wrong with his voice Professor McGonagall was sweeping along without even looking at him he had to jog to keep up Now hed done it He hadnt even lasted two weeks Hed be packing his bags in ten minutes What would the Dursleys say when he turned up on the doorstep',\n",
              " 'Up the front steps up the marble staircase inside and still Professor McGonagall didnt say a word to him She wrenched open doors and marched along corridors with Harry trotting miserably behind her Maybe she was taking him to Dumbledore He thought of Hagrid expelled but allowed to stay on as gamekeeper Perhaps he could be Hagrids assistant His stomach twisted as he imagined it watching Ron and the others becoming wizards while he stumped around the grounds carrying Hagrids bag',\n",
              " 'Professor McGonagall stopped outside a classroom She opened the door and poked her head inside',\n",
              " 'Excuse me Professor Flitwick could I borrow Wood for a moment',\n",
              " 'Wood thought Harry bewildered was Wood a cane she was going to use on him But Wood turned out to be a person a burly fifthyear boy who came out of Flitwicks class looking confused',\n",
              " 'Follow me you two said Professor McGonagall and they marched on up the corridor Wood looking curiously at Harry',\n",
              " 'In here',\n",
              " 'Professor McGonagall pointed them into a classroom that was empty except for Peeves who was busy writing rude words on the blackboard',\n",
              " 'Out Peeves she barked Peeves threw the chalk into a bin which clanged loudly and he swooped out cursing Professor McGonagall slammed the door behind him and turned to face the two boys',\n",
              " 'Potter this is Oliver Wood Wood  Ive found you a Seeker',\n",
              " 'Woods expression changed from puzzlement to delight',\n",
              " 'Are you serious Professor',\n",
              " 'Absolutely said Professor McGonagall crisply The boys a natural Ive never seen anything like it Was that your first time on a broomstick Potter',\n",
              " 'Harry nodded silently He didnt have a clue what was going on but he didnt seem to be being expelled and some of the feeling started coming back to his legs',\n",
              " 'He caught that thing in his hand after a fiftyfoot dive Professor McGonagall told Wood Didnt even scratch himself Charlie Weasley couldnt have done it',\n",
              " 'Wood was now looking as though all his dreams had come true at once',\n",
              " 'Ever seen a game of Quidditch Potter he asked excitedly',\n",
              " 'Woods captain of the Gryffindor team Professor McGonagall explained',\n",
              " 'Hes just the build for a Seeker too said Wood now walking around Harry and staring at him Light  speedy  well have to get him a decent broom Professor  a Nimbus Two Thousand or a Cleansweep Seven Id say',\n",
              " 'I shall speak to Professor Dumbledore and see if we cant bend the firstyear rule Heaven knows we need a better team than last year Flattened in that last match by Slytherin I couldnt look Severus Snape in the face for weeks ',\n",
              " 'Professor McGonagall peered sternly over her glasses at Harry',\n",
              " 'I want to hear youre training hard Potter or I may change my mind about punishing you',\n",
              " 'Then she suddenly smiled',\n",
              " 'Your father would have been proud she said He was an excellent Quidditch player himself',\n",
              " 'Youre joking',\n",
              " 'It was dinnertime Harry had just finished telling Ron what had happened when hed left the grounds with Professor McGonagall Ron had a piece of steak and kidney pie halfway to his mouth but hed forgotten all about it',\n",
              " 'Seeker he said But first years never  you must be the youngest House player in about ',\n",
              " ' a century said Harry shoveling pie into his mouth He felt particularly hungry after the excitement of the afternoon Wood told me',\n",
              " 'Ron was so amazed so impressed he just sat and gaped at Harry',\n",
              " 'I start training next week said Harry Only dont tell anyone Wood wants to keep it a secret',\n",
              " 'Fred and George Weasley now came into the hall spotted Harry and hurried over',\n",
              " 'Well done said George in a low voice Wood told us Were on the team too  Beaters',\n",
              " 'I tell you were going to win that Quidditch Cup for sure this year said Fred We havent won since Charlie left but this years team is going to be brilliant You must be good Harry Wood was almost skipping when he told us',\n",
              " 'Anyway weve got to go Lee Jordan reckons hes found a new secret passageway out of the school',\n",
              " 'Bet its that one behind the statue of Gregory the Smarmy that we found in our first week See you',\n",
              " 'Fred and George had hardly disappeared when someone far less welcome turned up Malfoy flanked by Crabbe and Goyle',\n",
              " 'Having a last meal Potter When are you getting the train back to the Muggles',\n",
              " 'Youre a lot braver now that youre back on the ground and youve got your little friends with you said Harry coolly There was of course nothing at all little about Crabbe and Goyle but as the High Table was full of teachers neither of them could do more than crack their knuckles and scowl',\n",
              " 'Id take you on anytime on my own said Malfoy Tonight if you want Wizards duel Wands only  no contact Whats the matter Never heard of a wizards duel before I suppose',\n",
              " 'Of course he has said Ron wheeling around Im his second whos yours',\n",
              " 'Malfoy looked at Crabbe and Goyle sizing them up',\n",
              " 'Crabbe he said Midnight all right Well meet you in the trophy room thats always unlocked',\n",
              " 'When Malfoy had gone Ron and Harry looked at each other',\n",
              " 'What is a wizards duel said Harry And what do you mean youre my second',\n",
              " 'Well a seconds there to take over if you die said Ron casually getting started at last on his cold pie Catching the look on Harrys face he added quickly But people only die in proper duels you know with real wizards The most you and Malfoyll be able to do is send sparks at each other Neither of you knows enough magic to do any real damage I bet he expected you to refuse anyway',\n",
              " 'And what if I wave my wand and nothing happens',\n",
              " 'Throw it away and punch him on the nose Ron suggested',\n",
              " 'Excuse me',\n",
              " 'They both looked up It was Hermione Granger',\n",
              " 'Cant a person eat in peace in this place said Ron',\n",
              " 'Hermione ignored him and spoke to Harry I couldnt help overhearing what you and Malfoy were saying ',\n",
              " 'Bet you could Ron muttered',\n",
              " ' and you mustnt go wandering around the school at night think of the points youll lose Gryffindor if youre caught and youre bound to be Its really very selfish of you',\n",
              " 'And its really none of your business said Harry',\n",
              " 'Goodbye said Ron',\n",
              " 'All the same it wasnt what youd call the perfect end to the day Harry thought as he lay awake much later listening to Dean and Seamus falling asleep Neville wasnt back from the hospital wing Ron had spent all evening giving him advice such as If he tries to curse you youd better dodge it because I cant remember how to block them There was a very good chance they were going to get caught by Filch or Mrs Norris and Harry felt he was pushing his luck breaking another school rule today On the other hand Malfoys sneering face kept looming up out of the darkness  this was his big chance to beat Malfoy facetoface He couldnt miss it',\n",
              " 'Halfpast eleven Ron muttered at last wed better go',\n",
              " 'They pulled on their bathrobes picked up their wands and crept across the tower room down the spiral staircase and into the Gryffindor common room A few embers were still glowing in the fireplace turning all the armchairs into hunched black shadows They had almost reached the portrait hole when a voice spoke from the chair nearest them I cant believe youre going to do this Harry',\n",
              " 'A lamp flickered on It was Hermione Granger wearing a pink bathrobe and a frown',\n",
              " 'You said Ron furiously Go back to bed',\n",
              " 'I almost told your brother Hermione snapped Percy  hes a prefect hed put a stop to this',\n",
              " 'Harry couldnt believe anyone could be so interfering',\n",
              " 'Come on he said to Ron He pushed open the portrait of the Fat Lady and climbed through the hole',\n",
              " 'Hermione wasnt going to give up that easily She followed Ron through the portrait hole hissing at them like an angry goose Dont you care about Gryffindor do you only care about yourselves I dont want Slytherin to win the House Cup and youll lose all the points I got from Professor McGonagall for knowing about Switching Spells',\n",
              " 'Go away',\n",
              " 'All right but I warned you you just remember what I said when youre on the train home tomorrow youre so ',\n",
              " 'But what they were they didnt find out Hermione had turned to the portrait of the Fat Lady to get back inside and found herself facing an empty painting The Fat Lady had gone on a nighttime visit and Hermione was locked out of Gryffindor Tower',\n",
              " 'Now what am I going to do she asked shrilly',\n",
              " 'Thats your problem said Ron Weve got to go were going to be late',\n",
              " 'They hadnt even reached the end of the corridor when Hermione caught up with them',\n",
              " 'Im coming with you she said You are not',\n",
              " 'Dyou think Im going to stand out here and wait for Filch to catch me If he finds all three of us Ill tell him the truth that I was trying to stop you and you can back me up',\n",
              " 'Youve got some nerve  said Ron loudly',\n",
              " 'Shut up both of you said Harry sharply I heard something',\n",
              " 'It was a sort of snuffling',\n",
              " 'Mrs Norris breathed Ron squinting through the dark',\n",
              " 'It wasnt Mrs Norris It was Neville He was curled up on the floor fast asleep but jerked suddenly awake as they crept nearer',\n",
              " 'Thank goodness you found me Ive been out here for hours I couldnt remember the new password to get in to bed',\n",
              " 'Keep your voice down Neville The passwords Pig snout but it wont help you now the Fat Ladys gone off somewhere',\n",
              " 'Hows your arm said Harry',\n",
              " 'Fine said Neville showing them Madam Pomfrey mended it in about a minute',\n",
              " 'Good  well look Neville weve got to be somewhere well see you later ',\n",
              " 'Dont leave me said Neville scrambling to his feet I dont want to stay here alone the Bloody Barons been past twice already',\n",
              " 'Ron looked at his watch and then glared furiously at Hermione and Neville',\n",
              " 'If either of you get us caught Ill never rest until Ive learned that Curse of the Bogies Quirrell told us about and used it on you',\n",
              " 'Hermione opened her mouth perhaps to tell Ron exactly how to use the Curse of the Bogies but Harry hissed at her to be quiet and beckoned them all forward',\n",
              " 'They flitted along corridors striped with bars of moonlight from the high windows At every turn Harry expected to run into Filch or Mrs Norris but they were lucky They sped up a staircase to the third floor and tiptoed toward the trophy room',\n",
              " 'Malfoy and Crabbe werent there yet The crystal trophy cases glimmered where the moonlight caught them Cups shields plates and statues winked silver and gold in the darkness They edged along the walls keeping their eyes on the doors at either end of the room Harry took out his wand in case Malfoy leapt in and started at once The minutes crept by',\n",
              " 'Hes late maybe hes chickened out Ron whispered',\n",
              " 'Then a noise in the next room made them jump Harry had only just raised his wand when they heard someone speak  and it wasnt Malfoy',\n",
              " 'Sniff around my sweet they might be lurking in a corner',\n",
              " 'It was Filch speaking to Mrs Norris Horrorstruck Harry waved madly at the other three to follow him as quickly as possible they scurried silently toward the door away from Filchs voice Nevilles robes had barely whipped round the corner when they heard Filch enter the trophy room',\n",
              " 'Theyre in here somewhere they heard him mutter probably hiding',\n",
              " 'This way Harry mouthed to the others and petrified they began to creep down a long gallery full of suits of armor',\n",
              " 'They could hear Filch getting nearer Neville suddenly let out a frightened squeak and broke into a run  he tripped grabbed Ron around the waist and the pair of them toppled right into a suit of armor',\n",
              " 'The clanging and crashing were enough to wake the whole castle',\n",
              " 'RUN Harry yelled and the four of them sprinted down the gallery not looking back to see whether Filch was following  they swung around the doorpost and galloped down one corridor then another Harry in the lead without any idea where they were or where they were going  they ripped through a tapestry and found themselves in a hidden passageway hurtled along it and came out near their Charms classroom which they knew was miles from the trophy room',\n",
              " 'I think weve lost him Harry panted leaning against the cold wall and wiping his forehead Neville was bent double wheezing and spluttering',\n",
              " 'I  told  you Hermione gasped clutching at the stitch in her chest I  told  you',\n",
              " 'Weve got to get back to Gryffindor Tower said Ron quickly as possible',\n",
              " 'Malfoy tricked you Hermione said to Harry You realize that dont you He was never going to meet you  Filch knew someone was going to be in the trophy room Malfoy must have tipped him off',\n",
              " 'Harry thought she was probably right but he wasnt going to tell her that',\n",
              " 'Lets go',\n",
              " 'It wasnt going to be that simple They hadnt gone more than a dozen paces when a doorknob rattled and something came shooting out of a classroom in front of them',\n",
              " 'It was Peeves He caught sight of them and gave a squeal of delight',\n",
              " 'Shut up Peeves  please  youll get us thrown out',\n",
              " 'Peeves cackled',\n",
              " 'Wandering around at midnight Ickle Firsties Tut tut tut Naughty naughty youll get caughty',\n",
              " 'Not if you dont give us away Peeves please',\n",
              " 'Should tell Filch I should said Peeves in a saintly voice but his eyes glittered wickedly Its for your own good you know',\n",
              " 'Get out of the way snapped Ron taking a swipe at Peeves  this was a big mistake',\n",
              " 'STUDENTS OUT OF BED Peeves bellowed STUDENTS OUT OF BED DOWN THE CHARMS CORRIDOR',\n",
              " 'Ducking under Peeves they ran for their lives right to the end of the corridor where they slammed into a door  and it was locked',\n",
              " 'This is it Ron moaned as they pushed helplessly at the door Were done for This is the end',\n",
              " 'They could hear footsteps Filch running as fast as he could toward Peevess shouts',\n",
              " 'Oh move over Hermione snarled She grabbed Harrys wand tapped the lock and whispered Alohomora',\n",
              " 'The lock clicked and the door swung open  they piled through it shut it quickly and pressed their ears against it listening',\n",
              " 'Which way did they go Peeves Filch was saying Quick tell me Say please',\n",
              " 'Dont mess with me Peeves now where did they go Shant say nothing if you dont say please said Peeves in his annoying singsong voice All right  please',\n",
              " 'NOTHING Ha haaa Told you I wouldnt say nothing if you didnt say please Ha ha Haaaaaa And they heard the sound of Peeves whooshing away and Filch cursing in rage',\n",
              " 'He thinks this door is locked Harry whispered I think well be okay  get off Neville For Neville had been tugging on the sleeve of Harrys bathrobe for the last minute What',\n",
              " 'Harry turned around  and saw quite clearly what For a moment he was sure hed walked into a nightmare  this was too much on top of everything that had happened so far',\n",
              " 'They werent in a room as he had supposed They were in a corridor The forbidden corridor on the third floor And now they knew why it was forbidden',\n",
              " 'They were looking straight into the eyes of a monstrous dog a dog that filled the whole space between ceiling and floor It had three heads Three pairs of rolling mad eyes three noses twitching and quivering in their direction three drooling mouths saliva hanging in slippery ropes from yellowish fangs',\n",
              " 'It was standing quite still all six eyes staring at them and Harry knew that the only reason they werent already dead was that their sudden appearance had taken it by surprise but it was quickly getting over that there was no mistaking what those thunderous growls meant',\n",
              " 'Harry groped for the doorknob  between Filch and death hed take Filch',\n",
              " 'They fell backward  Harry slammed the door shut and they ran they almost flew back down the corridor Filch must have hurried off to look for them somewhere else because they didnt see him anywhere but they hardly cared  all they wanted to do was put as much space as possible between them and that monster They didnt stop running until they reached the portrait of the Fat Lady on the seventh floor',\n",
              " 'Where on earth have you all been she asked looking at their bathrobes hanging off their shoulders and their flushed sweaty faces',\n",
              " 'Never mind that  pig snout pig snout panted Harry and the portrait swung forward They scrambled into the common room and collapsed trembling into armchairs',\n",
              " 'It was a while before any of them said anything Neville indeed looked as if hed never speak again',\n",
              " 'What do they think theyre doing keeping a thing like that locked up in a school said Ron finally If any dog needs exercise that one does',\n",
              " 'Hermione had got both her breath and her bad temper back again',\n",
              " 'You dont use your eyes any of you do you she snapped Didnt you see what it was standing on',\n",
              " 'The floor Harry suggested I wasnt looking at its feet I was too busy with its heads',\n",
              " 'No not the floor It was standing on a trapdoor Its obviously guarding something',\n",
              " 'She stood up glaring at them',\n",
              " 'I hope youre pleased with yourselves We could all have been killed  or worse expelled Now if you dont mind Im going to bed',\n",
              " 'Ron stared after her his mouth open No we dont mind he said Youd think we dragged her along wouldnt you',\n",
              " 'But Hermione had given Harry something else to think about as he climbed back into bed The dog was guarding something    What had Hagrid said Gringotts was the safest place in the world for something you wanted to hide  except perhaps Hogwarts',\n",
              " 'It looked as though Harry had found out where the grubby little package from vault seven hundred and thirteen was']"
            ]
          },
          "metadata": {},
          "execution_count": 14
        }
      ]
    },
    {
      "cell_type": "code",
      "source": [
        "from tqdm import tqdm\n",
        "\n",
        "\n",
        "subj_embeds= list()\n",
        "for text in tqdm(subj_data_formatted):\n",
        "    subj_embeds.append(forward(text).reshape(-1))\n"
      ],
      "metadata": {
        "colab": {
          "base_uri": "https://localhost:8080/"
        },
        "id": "60On21trBWq3",
        "outputId": "392af271-5942-4e1c-cb4c-d1be1b8eb039"
      },
      "execution_count": null,
      "outputs": [
        {
          "output_type": "stream",
          "name": "stderr",
          "text": [
            "\r  0%|          | 0/198 [00:00<?, ?it/s]"
          ]
        }
      ]
    },
    {
      "cell_type": "code",
      "source": [
        "subj_embeds = np.array(subj_embeds)\n",
        "subj_embeds"
      ],
      "metadata": {
        "colab": {
          "base_uri": "https://localhost:8080/"
        },
        "id": "ToHo3eePNC3h",
        "outputId": "62910031-9189-4355-edc0-cf105f709a16"
      },
      "execution_count": null,
      "outputs": [
        {
          "output_type": "execute_result",
          "data": {
            "text/plain": [
              "array([[ 0.14065225,  0.00736293, -0.4607407 , ...,  0.02256148,\n",
              "        -0.209079  , -0.5298386 ],\n",
              "       [-0.05774261, -0.12987113, -0.02990648, ...,  0.26181778,\n",
              "        -0.4751227 , -0.23012371],\n",
              "       [ 0.0251148 , -0.4531601 , -0.67646086, ...,  0.27137366,\n",
              "        -0.34036297,  0.0133964 ],\n",
              "       ...,\n",
              "       [-0.46694604,  0.01720074, -0.59188956, ..., -0.42356327,\n",
              "        -0.6471288 , -0.2694936 ],\n",
              "       [-0.06491936,  0.00350159, -0.33017522, ..., -0.2221539 ,\n",
              "        -0.39522478, -0.8648159 ],\n",
              "       [ 1.0308399 ,  0.2867789 ,  0.5290635 , ...,  0.6679201 ,\n",
              "         0.879962  , -0.4553225 ]], dtype=float32)"
            ]
          },
          "metadata": {},
          "execution_count": 13
        }
      ]
    },
    {
      "cell_type": "code",
      "source": [
        "subj_embeds.dump(\"/content/drive/MyDrive/colabdata/LSTM_Embeddings.npy\")"
      ],
      "metadata": {
        "id": "WTRsv5eaRyJT"
      },
      "execution_count": null,
      "outputs": []
    },
    {
      "cell_type": "code",
      "source": [
        "np.load(\"/content/drive/MyDrive/colabdata/LSTM_Embeddings.npy\", allow_pickle=True)"
      ],
      "metadata": {
        "colab": {
          "base_uri": "https://localhost:8080/"
        },
        "id": "vA3X1vFphUSW",
        "outputId": "0748c224-908a-4350-f6bc-c0344d5a9b89"
      },
      "execution_count": null,
      "outputs": [
        {
          "output_type": "execute_result",
          "data": {
            "text/plain": [
              "array([[ 0.14065225,  0.00736293, -0.4607407 , ...,  0.02256148,\n",
              "        -0.209079  , -0.5298386 ],\n",
              "       [-0.05774261, -0.12987113, -0.02990648, ...,  0.26181778,\n",
              "        -0.4751227 , -0.23012371],\n",
              "       [ 0.0251148 , -0.4531601 , -0.67646086, ...,  0.27137366,\n",
              "        -0.34036297,  0.0133964 ],\n",
              "       ...,\n",
              "       [-0.46694604,  0.01720074, -0.59188956, ..., -0.42356327,\n",
              "        -0.6471288 , -0.2694936 ],\n",
              "       [-0.06491936,  0.00350159, -0.33017522, ..., -0.2221539 ,\n",
              "        -0.39522478, -0.8648159 ],\n",
              "       [ 1.0308399 ,  0.2867789 ,  0.5290635 , ...,  0.6679201 ,\n",
              "         0.879962  , -0.4553225 ]], dtype=float32)"
            ]
          },
          "metadata": {},
          "execution_count": 16
        }
      ]
    },
    {
      "cell_type": "code",
      "source": [
        ""
      ],
      "metadata": {
        "id": "_3CR_CJGhicL"
      },
      "execution_count": null,
      "outputs": []
    }
  ]
}